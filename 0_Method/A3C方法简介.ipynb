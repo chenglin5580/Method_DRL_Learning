{
 "cells": [
  {
   "cell_type": "markdown",
   "metadata": {
    "collapsed": true
   },
   "source": [
    "## A3C概述\n",
    "A3C算法是2015年DeepMind提出的相比DQN更好更通用的一个深度增强学习算法。A3C算法完全使用了Actor-Critic框架，并且引入了异步训练的思想，在提升性能的同时也大大加快了训练速度。A3C算法的基本思想，即Actor-Critic的基本思想，是对输出的动作进行好坏评估，如果动作被认为是好的，那么就调整行动网络（Actor Network）使该动作出现的可能性增加。反之如果动作被认为是坏的，则使该动作出现的可能性减少。通过反复的训练，不断调整行动网络找到最优的动作。其中A3C表示Asynchronous(异步) Advantage(优势) Actor Critic."
   ]
  },
  {
   "cell_type": "markdown",
   "metadata": {},
   "source": [
    "## 异步方法\n",
    "原论文中介绍的异步方法不止A3C一种，下面简单看一下其他的方法。\n",
    "* Asynchronous one-step Q-learning 异步一步Q方法\n",
    "利用异步，多个处理器并行处理，不使用记忆池同样能够打破数据相关性。每个处理器利用一步Q学习公式独立更新全局Q（s，a）eval网络，每隔固定步数更新target网络，从而实现异步算法。\n",
    "* Asynchronous one-step Sarsa 异步一步Sarsa方法\n",
    "和上面方法基本类似，唯一的不同就在于更新全局eval网络的时候使用的是Sarsa公式。\n",
    "* Asynchronous n-step Q-learning 异步n步Q方法\n",
    "同样是异步方法，不使用记忆池。与之前方法不同的是更新时候使用一系列的数据，然后累计梯度更新。\n",
    "![](http://img.blog.csdn.net/20170613220134727?watermark/2/text/aHR0cDovL2Jsb2cuY3Nkbi5uZXQvdTAxMzIzNjk0Ng==/font/5a6L5L2T/fontsize/400/fill/I0JBQkFCMA==/dissolve/70/gravity/SouthEast)"
   ]
  },
  {
   "cell_type": "markdown",
   "metadata": {},
   "source": [
    "* Asynchronous Advantage Actor Critic A3C算法 \n",
    "和之前算法不一样的是，A3C算法是基于策略梯度的方法，采用了Actor_Critic框架，其中两个部件\n",
    "    * Actor：用来选取动作的，由于采用的是随机性策略梯度，所以连续输出是分布，离散输出就是一个概率，优化目标就使输出的动作价值最大（实际考虑了香农熵，为了增加探索性，防止过早进入次优）\n",
    "    * Critic: 判断概率分布的价值，输入s，输出v，然后利用r-v得到优势函数a，优化目标是减小vtarget-v（这里vtarget=r）\n",
    "![](http://img.blog.csdn.net/20170613220534373?watermark/2/text/aHR0cDovL2Jsb2cuY3Nkbi5uZXQvdTAxMzIzNjk0Ng==/font/5a6L5L2T/fontsize/400/fill/I0JBQkFCMA==/dissolve/70/gravity/SouthEast)"
   ]
  },
  {
   "cell_type": "markdown",
   "metadata": {},
   "source": [
    "## 参考\n",
    "[深度强化学习A3C简介](http://blog.csdn.net/u013236946/article/details/73195035)   \n",
    "[A3C原版论文](http://www.jmlr.org/proceedings/papers/v48/mniha16.pdf)"
   ]
  }
 ],
 "metadata": {
  "kernelspec": {
   "display_name": "Python 3",
   "language": "python",
   "name": "python3"
  },
  "language_info": {
   "codemirror_mode": {
    "name": "ipython",
    "version": 3
   },
   "file_extension": ".py",
   "mimetype": "text/x-python",
   "name": "python",
   "nbconvert_exporter": "python",
   "pygments_lexer": "ipython3",
   "version": "3.5.4"
  }
 },
 "nbformat": 4,
 "nbformat_minor": 1
}
